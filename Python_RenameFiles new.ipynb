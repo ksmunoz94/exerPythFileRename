{
  "cells": [
    {
      "cell_type": "markdown",
      "source": [
        "# Python Automate Parsing and Renaming Multiple Files"
      ],
      "metadata": {
        "deletable": false,
        "editable": false,
        "nbgrader": {
          "cell_type": "markdown",
          "checksum": "3eec0a079fe8c181acee57720e3f7f00",
          "grade": false,
          "grade_id": "cell-bbdd1e6501687805",
          "locked": true,
          "schema_version": 3,
          "solution": false,
          "task": false
        }
      },
      "id": "b855d247"
    },
    {
      "cell_type": "markdown",
      "source": [
        "### Instructions\n",
        "\n",
        "* Watch the video tutorial about the os module at https://www.youtube.com/watch?v=ve2pmm5JqmI&list=PLG9A6ovzPqX6d9uWzx0UYN9pm0zzl5ofA&index=26 \n",
        "* Complete the programming exercises below as you go through the tutorial.\n",
        "* Delete or comment out the line of code in each cell which says `raise NotImplementedError()` and replace it with your own.\n",
        "\n",
        "### Exercises"
      ],
      "metadata": {
        "deletable": false,
        "editable": false,
        "nbgrader": {
          "cell_type": "markdown",
          "checksum": "73bbc12b35df4790d422f8b6da0b33f5",
          "grade": false,
          "grade_id": "cell-aab82be80eea3871",
          "locked": true,
          "schema_version": 3,
          "solution": false,
          "task": false
        }
      },
      "id": "ce5ba134"
    },
    {
      "cell_type": "markdown",
      "source": [
        "Write code in the cell below.\n",
        "\n",
        "* Import the os module."
      ],
      "metadata": {
        "deletable": false,
        "editable": false,
        "nbgrader": {
          "cell_type": "markdown",
          "checksum": "4d9f04832746dad7200f12377fcd530a",
          "grade": false,
          "grade_id": "cell-eabeebb533d1e3cb",
          "locked": true,
          "schema_version": 3,
          "solution": false,
          "task": false
        }
      },
      "id": "772376c6"
    },
    {
      "cell_type": "code",
      "source": [
        "import os\n"
      ],
      "outputs": [],
      "execution_count": null,
      "metadata": {
        "deletable": false,
        "nbgrader": {
          "cell_type": "code",
          "checksum": "b77373ae7f6094c514e8a74c6322ab3a",
          "grade": true,
          "grade_id": "cell-818e7c329ddd3361",
          "locked": false,
          "points": 1,
          "schema_version": 3,
          "solution": true,
          "task": false
        },
        "noteable": {},
        "ExecuteTime": {
          "end_time": "2023-09-19T02:37:15.626498+00:00",
          "start_time": "2023-09-19T02:37:15.472338+00:00"
        }
      },
      "id": "40b6f892"
    },
    {
      "cell_type": "markdown",
      "source": [
        "Write code in the cell below.\n",
        "\n",
        "* Note: I provided a folder with files matching the names shown in the video. You might want to consider making a copy of the folder with the files and working on the copy instead of the original. That way if you make a mistake, you can delete the copy and make a new one to start over fresh with the original file names.\n",
        "* Change the directory to where you files are located.\n",
        "* Note: If you have spaces in your folder or file names, the drag and drop method to get the path may not work. Check to make sure you don't have any back slashes in your file name. You might consider renaming your files and folders to make sure they don't have spaces in them.\n",
        "* Note: If you're using Windows, you may need to change the back slashes in the path to forward slashes as shown in the video.\n",
        "* Print the current working directory to make sure it changed to the right directory."
      ],
      "metadata": {
        "deletable": false,
        "editable": false,
        "nbgrader": {
          "cell_type": "markdown",
          "checksum": "758c9db29b9dab434f4aa1b724b98f1c",
          "grade": false,
          "grade_id": "cell-7ddfa4831d3c6c86",
          "locked": true,
          "schema_version": 3,
          "solution": false,
          "task": false
        }
      },
      "id": "a23fabd5"
    },
    {
      "cell_type": "code",
      "source": [
        "import os\n",
        "os.chdir('/Users/kimmunoz/Desktop/files')\n",
        "print(os.getcwd())"
      ],
      "outputs": [
        {
          "output_type": "error",
          "ename": "FileNotFoundError",
          "evalue": "[Errno 2] No such file or directory: '/Users/kimmunoz/Desktop/files/'",
          "traceback": [
            "\u001b[0;31m---------------------------------------------------------------------------\u001b[0m",
            "\u001b[0;31mFileNotFoundError\u001b[0m                         Traceback (most recent call last)",
            "Cell \u001b[0;32mIn[3], line 2\u001b[0m\n\u001b[1;32m      1\u001b[0m \u001b[38;5;28;01mimport\u001b[39;00m \u001b[38;5;21;01mos\u001b[39;00m\n\u001b[0;32m----> 2\u001b[0m \u001b[43mos\u001b[49m\u001b[38;5;241;43m.\u001b[39;49m\u001b[43mchdir\u001b[49m\u001b[43m(\u001b[49m\u001b[38;5;124;43m'\u001b[39;49m\u001b[38;5;124;43m/Users/kimmunoz/Desktop/files/\u001b[39;49m\u001b[38;5;124;43m'\u001b[39;49m\u001b[43m)\u001b[49m\n\u001b[1;32m      3\u001b[0m \u001b[38;5;28mprint\u001b[39m(os\u001b[38;5;241m.\u001b[39mgetcwd())\n",
            "\u001b[0;31mFileNotFoundError\u001b[0m: [Errno 2] No such file or directory: '/Users/kimmunoz/Desktop/files/'"
          ]
        }
      ],
      "execution_count": null,
      "metadata": {
        "deletable": false,
        "nbgrader": {
          "cell_type": "code",
          "checksum": "4d59faf4d34692d91df442c9214579e7",
          "grade": true,
          "grade_id": "cell-7d0d4d334c6e8e9c",
          "locked": false,
          "points": 1,
          "schema_version": 3,
          "solution": true,
          "task": false
        },
        "noteable": {},
        "ExecuteTime": {
          "end_time": "2023-09-21T02:06:03.622399+00:00",
          "start_time": "2023-09-21T02:06:03.455418+00:00"
        }
      },
      "id": "8e6e0fd5"
    },
    {
      "cell_type": "code",
      "source": [
        "import os\n",
        "print(os.getcwd())"
      ],
      "outputs": [
        {
          "output_type": "stream",
          "name": "stdout",
          "text": [
            "/etc/noteable/project\n"
          ]
        }
      ],
      "execution_count": null,
      "metadata": {
        "jupyter": {
          "outputs_hidden": false,
          "source_hidden": false
        },
        "noteable": {
          "cell_type": "code"
        },
        "ExecuteTime": {
          "end_time": "2023-09-21T23:11:18.256879+00:00",
          "start_time": "2023-09-21T23:11:18.102209+00:00"
        }
      },
      "id": "1543311a-b809-448c-8490-c329f8f3ab2f"
    },
    {
      "cell_type": "code",
      "source": [
        "filedir=\"rename files\"\n",
        "os.chdir('/etc/noteable/project/rename files')\n",
        "for f in os.listdir(): \n",
        "    print(f)"
      ],
      "outputs": [
        {
          "output_type": "stream",
          "name": "stdout",
          "text": [
            ".noteablekeep\n",
            "Earth - Our solar system - #4.txt\n",
            "Jupiter - Our solar system - #6.txt\n",
            "Mars - Our solar system - #5.txt\n",
            "Mercury - Our solar system - #2.txt\n",
            "Neptune - Our solar system - #8.txt\n",
            "Pluto - Our solar system - #10.txt\n",
            "Saturn - Our solar system - #7.txt\n",
            "The Sun - Our solar system - #1.txt\n",
            "Uranus - Our solar system - #9.txt\n",
            "Venus - Our solar system - #3.txt\n"
          ]
        }
      ],
      "execution_count": null,
      "metadata": {
        "jupyter": {
          "outputs_hidden": false,
          "source_hidden": false
        },
        "noteable": {
          "cell_type": "code"
        },
        "ExecuteTime": {
          "end_time": "2023-09-21T23:15:01.497985+00:00",
          "start_time": "2023-09-21T23:15:01.342798+00:00"
        }
      },
      "id": "2fc6778a-9026-4261-8f49-19e14ef6a37d"
    },
    {
      "cell_type": "markdown",
      "source": [
        "Write code in the cell below.\n",
        "\n",
        "* Print all the files in the directory.\n",
        "* Print the file names split from their extensions."
      ],
      "metadata": {
        "deletable": false,
        "editable": false,
        "nbgrader": {
          "cell_type": "markdown",
          "checksum": "00c2ed2cfe9ca8a34d7c1196afa48ed0",
          "grade": false,
          "grade_id": "cell-7e778deb040a948f",
          "locked": true,
          "schema_version": 3,
          "solution": false,
          "task": false
        }
      },
      "id": "4bfedeaf"
    },
    {
      "cell_type": "code",
      "source": [
        "import os\n",
        "filedir=\"rename files\"\n",
        "os.chdir('/etc/noteable/project/rename files')\n",
        "for f in os.listdir(): \n",
        "    print(f)\n",
        "for f in os.listdir(): \n",
        "    print(os.path.splitext(f))\n"
      ],
      "outputs": [
        {
          "output_type": "stream",
          "name": "stdout",
          "text": [
            ".noteablekeep\n",
            "Earth - Our solar system - #4.txt\n",
            "Jupiter - Our solar system - #6.txt\n",
            "Mars - Our solar system - #5.txt\n",
            "Mercury - Our solar system - #2.txt\n",
            "Neptune - Our solar system - #8.txt\n",
            "Pluto - Our solar system - #10.txt\n",
            "Saturn - Our solar system - #7.txt\n",
            "The Sun - Our solar system - #1.txt\n",
            "Uranus - Our solar system - #9.txt\n",
            "Venus - Our solar system - #3.txt\n",
            "('.noteablekeep', '')\n",
            "('Earth - Our solar system - #4', '.txt')\n",
            "('Jupiter - Our solar system - #6', '.txt')\n",
            "('Mars - Our solar system - #5', '.txt')\n",
            "('Mercury - Our solar system - #2', '.txt')\n",
            "('Neptune - Our solar system - #8', '.txt')\n",
            "('Pluto - Our solar system - #10', '.txt')\n",
            "('Saturn - Our solar system - #7', '.txt')\n",
            "('The Sun - Our solar system - #1', '.txt')\n",
            "('Uranus - Our solar system - #9', '.txt')\n",
            "('Venus - Our solar system - #3', '.txt')\n"
          ]
        }
      ],
      "execution_count": null,
      "metadata": {
        "deletable": false,
        "nbgrader": {
          "cell_type": "code",
          "checksum": "6a99d7a5f45c439162300294338b2fd2",
          "grade": true,
          "grade_id": "cell-886a46337e41e3dc",
          "locked": false,
          "points": 1,
          "schema_version": 3,
          "solution": true,
          "task": false
        },
        "noteable": {},
        "ExecuteTime": {
          "end_time": "2023-09-22T01:38:25.673182+00:00",
          "start_time": "2023-09-22T01:38:25.517066+00:00"
        }
      },
      "id": "05a46979"
    },
    {
      "cell_type": "markdown",
      "source": [
        "Write code in the cell below.\n",
        "\n",
        "* Assign the file names to a variable named `file_name`.\n",
        "* Assign the file extensions to a variable named `file_ext`.\n",
        "* Using the `file_name` variable, split the names on the hyphen `-`. Assign the first section to a variable called `f_title`, the second section to a variable called `f_course`, and the third section to a variable called `f_num`.\n",
        "* Print a formatted string using the format `'{}-{}-{}{}'.format(f_num, f_course, f_title, f_ext)`. (The presenter updated the variable `file_name` to `f_name` and `file_ext` to `f_ext`.)"
      ],
      "metadata": {
        "deletable": false,
        "editable": false,
        "nbgrader": {
          "cell_type": "markdown",
          "checksum": "97f5a469dd15198a04c0d6176e90a49b",
          "grade": false,
          "grade_id": "cell-cfaf1995327f55d1",
          "locked": true,
          "schema_version": 3,
          "solution": false,
          "task": false
        }
      },
      "id": "ea740f4f"
    },
    {
      "cell_type": "code",
      "source": [
        "import os\n",
        "filedir=\"rename files\"\n",
        "os.chdir('/etc/noteable/project/rename files')\n",
        "for f in os.listdir():\n",
        "    if f.endswith('.txt'):\n",
        "        file_name, f_ext = os.path.splitext(f)\n",
        " \n",
        "\n",
        "        f_title, f_course, f_num = file_name.split('-')\n",
        "    \n",
        "        print('{}-{}-{}{}'.format(f_num, f_course, f_title, f_ext))"
      ],
      "outputs": [
        {
          "output_type": "stream",
          "name": "stdout",
          "text": [
            " #4- Our solar system -Earth .txt\n",
            " #6- Our solar system -Jupiter .txt\n",
            " #5- Our solar system -Mars .txt\n",
            " #2- Our solar system -Mercury .txt\n",
            " #8- Our solar system -Neptune .txt\n",
            " #10- Our solar system -Pluto .txt\n",
            " #7- Our solar system -Saturn .txt\n",
            " #1- Our solar system -The Sun .txt\n",
            " #9- Our solar system -Uranus .txt\n",
            " #3- Our solar system -Venus .txt\n"
          ]
        }
      ],
      "execution_count": null,
      "metadata": {
        "jupyter": {
          "source_hidden": false,
          "outputs_hidden": false
        },
        "noteable": {
          "cell_type": "python"
        },
        "ExecuteTime": {
          "start_time": "2023-09-25T16:01:19.084881+00:00",
          "end_time": "2023-09-25T16:01:19.241100+00:00"
        }
      },
      "id": "aecb3bd6-5ceb-4f41-b997-678e26455c48"
    },
    {
      "cell_type": "markdown",
      "source": [
        "Write code in the cell below.\n",
        "\n",
        "* Strip white space from the `f_title`, `f_course`, and `f_num` variables.\n",
        "* Remove the # sign from the beginning.\n",
        "* Add 0 to the front of the single digits.\n",
        "* Remove the course name from the file titles."
      ],
      "metadata": {
        "deletable": false,
        "editable": false,
        "nbgrader": {
          "cell_type": "markdown",
          "checksum": "9e6b5c4366042498d8194455ea1eba4f",
          "grade": false,
          "grade_id": "cell-150f0ddcc8127dc8",
          "locked": true,
          "schema_version": 3,
          "solution": false,
          "task": false
        }
      },
      "id": "a8195f5c"
    },
    {
      "cell_type": "code",
      "source": [
        "import os\n",
        "filedir=\"rename files\"\n",
        "os.chdir('/etc/noteable/project/rename files')\n",
        "for f in os.listdir():\n",
        "    if f.endswith('.txt'):\n",
        "        file_name, f_ext = os.path.splitext(f)\n",
        " \n",
        "        f_title, f_course, f_num = file_name.split('-')\n",
        "    \n",
        "        f_title = f_title.strip()\n",
        "        f_course = f_course.strip()\n",
        "        f_num = f_num.strip()[1:].zfill(2)\n",
        "    \n",
        "        print('{}-{}{}'.format(f_num, f_title, f_ext))\n"
      ],
      "outputs": [
        {
          "output_type": "stream",
          "name": "stdout",
          "text": [
            "04-Earth.txt\n",
            "06-Jupiter.txt\n",
            "05-Mars.txt\n",
            "02-Mercury.txt\n",
            "08-Neptune.txt\n",
            "10-Pluto.txt\n",
            "07-Saturn.txt\n",
            "01-The Sun.txt\n",
            "09-Uranus.txt\n",
            "03-Venus.txt\n"
          ]
        }
      ],
      "execution_count": null,
      "metadata": {
        "deletable": false,
        "nbgrader": {
          "cell_type": "code",
          "checksum": "341c11971be7bad00f19caa190b237ae",
          "grade": true,
          "grade_id": "cell-92a17579c0833b85",
          "locked": false,
          "points": 5,
          "schema_version": 3,
          "solution": true,
          "task": false
        },
        "noteable": {},
        "ExecuteTime": {
          "start_time": "2023-09-25T16:10:34.475113+00:00",
          "end_time": "2023-09-25T16:10:34.630441+00:00"
        }
      },
      "id": "6f6bf0b9"
    },
    {
      "cell_type": "markdown",
      "source": [
        "Write code in the cell below.\n",
        "\n",
        "* Copy your code from the previous cell.\n",
        "* Change the print statement to a new variable called `new_name` which uses the format `'{}-{}{}'.format(f_num, f_title, f_ext)`.\n",
        "* Note: Once you run the os.rename() method, the files in your folder will be changed and will no longer match the original format. If you try to run your previous code or this cell again, you will get errors. If you want to run the previous cells again, you will need to create a new copy of the original folder which has the original file names."
      ],
      "metadata": {
        "deletable": false,
        "editable": false,
        "nbgrader": {
          "cell_type": "markdown",
          "checksum": "a591b5db8bc82519a7cacd3320b571bb",
          "grade": false,
          "grade_id": "cell-48f78ef178de58d7",
          "locked": true,
          "schema_version": 3,
          "solution": false,
          "task": false
        }
      },
      "id": "7627a23f"
    },
    {
      "cell_type": "code",
      "source": [
        "import os\n",
        "filedir=\"rename files\"\n",
        "os.chdir('/etc/noteable/project/rename files')\n",
        "for f in os.listdir():\n",
        "    if f.endswith('.txt'):\n",
        "        file_name, f_ext = os.path.splitext(f)\n",
        " \n",
        "        f_title, f_course, f_num = file_name.split('-')\n",
        "    \n",
        "        f_title = f_title.strip()\n",
        "        f_course = f_course.strip()\n",
        "        f_num = f_num.strip()[1:].zfill(2)\n",
        "    \n",
        "        new_name = '{}-{}{}'.format(f_num, f_title, f_ext)\n",
        "        \n",
        "        os.rename(f, new_name)"
      ],
      "outputs": [],
      "execution_count": null,
      "metadata": {
        "deletable": false,
        "nbgrader": {
          "cell_type": "code",
          "checksum": "f12f99bdbeb302e70cc294599006c340",
          "grade": true,
          "grade_id": "cell-7b69cabad92b2a69",
          "locked": false,
          "points": 2,
          "schema_version": 3,
          "solution": true,
          "task": false
        },
        "noteable": {},
        "ExecuteTime": {
          "start_time": "2023-09-25T17:03:46.063604+00:00",
          "end_time": "2023-09-25T17:03:46.222110+00:00"
        }
      },
      "id": "128f2a82"
    },
    {
      "cell_type": "markdown",
      "source": [
        "Write code in the cell below.\n",
        "\n",
        "* What line of code does the presenter use to rename the files?"
      ],
      "metadata": {
        "deletable": false,
        "editable": false,
        "nbgrader": {
          "cell_type": "markdown",
          "checksum": "861934438f8c68ae943fbc5137d7b92c",
          "grade": false,
          "grade_id": "cell-425153c9cfb7d0d5",
          "locked": true,
          "schema_version": 3,
          "solution": false,
          "task": false
        }
      },
      "id": "91c032d5"
    },
    {
      "cell_type": "code",
      "source": [
        "os.rename()"
      ],
      "outputs": [
        {
          "output_type": "error",
          "ename": "TypeError",
          "evalue": "rename() missing required argument 'src' (pos 1)",
          "traceback": [
            "\u001b[0;31m---------------------------------------------------------------------------\u001b[0m",
            "\u001b[0;31mTypeError\u001b[0m                                 Traceback (most recent call last)",
            "Cell \u001b[0;32mIn[3], line 1\u001b[0m\n\u001b[0;32m----> 1\u001b[0m \u001b[43mos\u001b[49m\u001b[38;5;241;43m.\u001b[39;49m\u001b[43mrename\u001b[49m\u001b[43m(\u001b[49m\u001b[43m)\u001b[49m\n",
            "\u001b[0;31mTypeError\u001b[0m: rename() missing required argument 'src' (pos 1)"
          ]
        }
      ],
      "execution_count": null,
      "metadata": {
        "deletable": false,
        "nbgrader": {
          "cell_type": "code",
          "checksum": "ca4a3959d7b6853643569870cdd0486d",
          "grade": true,
          "grade_id": "cell-75440e8a8f398a02",
          "locked": false,
          "points": 1,
          "schema_version": 3,
          "solution": true,
          "task": false
        },
        "noteable": {},
        "ExecuteTime": {
          "start_time": "2023-09-25T17:05:52.486398+00:00",
          "end_time": "2023-09-25T17:05:52.868463+00:00"
        }
      },
      "id": "49c851c0"
    }
  ],
  "metadata": {
    "kernelspec": {
      "name": "python3",
      "display_name": "Python 3.9",
      "language": "python"
    },
    "language_info": {
      "codemirror_mode": {
        "name": "ipython",
        "version": 3
      },
      "file_extension": ".py",
      "mimetype": "text/x-python",
      "name": "python",
      "nbconvert_exporter": "python",
      "pygments_lexer": "ipython3",
      "version": "3.8.8"
    },
    "selected_hardware_size": "small",
    "kernel_info": {
      "name": "python3"
    },
    "noteable": {
      "last_delta_id": "f12208f2-11c1-4bbf-a122-9f7e5afd351b"
    },
    "nteract": {
      "version": "noteable@2.9.0"
    }
  },
  "nbformat": 4,
  "nbformat_minor": 5
}